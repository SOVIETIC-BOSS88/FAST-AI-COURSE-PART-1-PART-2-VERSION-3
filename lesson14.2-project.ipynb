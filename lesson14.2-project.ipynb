{
 "cells": [
  {
   "cell_type": "markdown",
   "metadata": {},
   "source": [
    "# FAST AI JOURNEY: PART 2. LESSON 14.2.\n",
    "## Documenting my fast.ai journey: CODE REVIEW. SWIFT FOR TENSORFLOW (S4TF) DEEP DIVE PROJECT. CONVOLUTIONAL NEURAL NETWORKS."
   ]
  },
  {
   "cell_type": "markdown",
   "metadata": {},
   "source": [
    "In this project we dived deeper into the implementation of a simple Convolutional Neural Network, using Swift For TensorFlow (S4TF),  summarized in the following [Medium Post](https://medium.com/@surhar88/fast-ai-journey-part-2-lesson-14-2-519d79d6ed61)."
   ]
  },
  {
   "cell_type": "code",
   "execution_count": null,
   "metadata": {},
   "outputs": [],
   "source": []
  }
 ],
 "metadata": {
  "kernelspec": {
   "display_name": "Python 3",
   "language": "python",
   "name": "python3"
  },
  "language_info": {
   "codemirror_mode": {
    "name": "ipython",
    "version": 3
   },
   "file_extension": ".py",
   "mimetype": "text/x-python",
   "name": "python",
   "nbconvert_exporter": "python",
   "pygments_lexer": "ipython3",
   "version": "3.6.7"
  }
 },
 "nbformat": 4,
 "nbformat_minor": 2
}
