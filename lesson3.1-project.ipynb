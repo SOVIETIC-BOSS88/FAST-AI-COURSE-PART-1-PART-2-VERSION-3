{
 "cells": [
  {
   "cell_type": "markdown",
   "metadata": {},
   "source": [
    "# FAST AI JOURNEY: PART 1. LESSON 3.1. \n",
    "## THEORY REVIEW. LEARNING RATES AND ACTIVATION FUNCTIONS."
   ]
  },
  {
   "cell_type": "markdown",
   "metadata": {},
   "source": [
    "In this project we summarized the new theory we have been learning in the following [Medium Post](https://medium.com/@surhar88/fast-ai-journey-part-1-lesson-3-theory-review-learning-rates-and-activation-functions-ab967a5f0eec)."
   ]
  }
 ],
 "metadata": {
  "kernelspec": {
   "display_name": "Python 3",
   "language": "python",
   "name": "python3"
  },
  "language_info": {
   "codemirror_mode": {
    "name": "ipython",
    "version": 3
   },
   "file_extension": ".py",
   "mimetype": "text/x-python",
   "name": "python",
   "nbconvert_exporter": "python",
   "pygments_lexer": "ipython3",
   "version": "3.7.0"
  }
 },
 "nbformat": 4,
 "nbformat_minor": 2
}
