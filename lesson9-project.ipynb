{
 "cells": [
  {
   "cell_type": "markdown",
   "metadata": {},
   "source": [
    "# FAST AI JOURNEY: COURSE V3. PART 2. LESSON 9.\n",
    "## Documenting my fast.ai journey: PAPER REVIEW. ALL YOU NEED IS A GOOD INIT."
   ]
  },
  {
   "cell_type": "markdown",
   "metadata": {},
   "source": [
    "In this project we dived into the 2015 paper, named All you need is a good init, by Dmytro Mishkin, Jiri Matas, which was was published as a conference paper at the 2016 ICLR, summarized in the following [Medium Post](https://medium.com/@surhar88/fast-ai-journey-part-2-lesson-9-35265182bf9f)."
   ]
  },
  {
   "cell_type": "code",
   "execution_count": null,
   "metadata": {},
   "outputs": [],
   "source": []
  }
 ],
 "metadata": {
  "kernelspec": {
   "display_name": "Python 3",
   "language": "python",
   "name": "python3"
  },
  "language_info": {
   "codemirror_mode": {
    "name": "ipython",
    "version": 3
   },
   "file_extension": ".py",
   "mimetype": "text/x-python",
   "name": "python",
   "nbconvert_exporter": "python",
   "pygments_lexer": "ipython3",
   "version": "3.6.7"
  }
 },
 "nbformat": 4,
 "nbformat_minor": 2
}
