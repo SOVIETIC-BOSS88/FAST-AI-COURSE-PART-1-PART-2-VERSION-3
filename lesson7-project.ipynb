{
 "cells": [
  {
   "cell_type": "markdown",
   "metadata": {},
   "source": [
    "# FAST AI JOURNEY: PART 1. LESSON 7.\n",
    "## Documenting my fast.ai journey: PAPER REVIEW. VISUALIZING THE LOSS LANDSCAPE OF NEURAL NETS."
   ]
  },
  {
   "cell_type": "markdown",
   "metadata": {},
   "source": [
    "In this project we dived into the 2017 paper, named Visualizing the Loss Landscape of Neural Nets, by Hao Li, Zheng Xu, Gavin Taylor, Christoph Studer, Tom Goldstein, summarized in the following [Medium Post](https://medium.com/@surhar88/fast-ai-journey-part-1-lesson-7-268607369a45)."
   ]
  }
 ],
 "metadata": {
  "kernelspec": {
   "display_name": "Python 3",
   "language": "python",
   "name": "python3"
  },
  "language_info": {
   "codemirror_mode": {
    "name": "ipython",
    "version": 3
   },
   "file_extension": ".py",
   "mimetype": "text/x-python",
   "name": "python",
   "nbconvert_exporter": "python",
   "pygments_lexer": "ipython3",
   "version": "3.6.7"
  }
 },
 "nbformat": 4,
 "nbformat_minor": 2
}
