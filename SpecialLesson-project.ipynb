{
 "cells": [
  {
   "cell_type": "markdown",
   "metadata": {},
   "source": [
    "# FAST AI JOURNEY: PART 1. SPECIAL LESSON.\n",
    "## Documenting my fast.ai journey: PAPER REVIEW. A DISCIPLINED APPROACH TO NEURAL NETWORK HYPER-PARAMETERS: PART 1 — LEARNING RATE, BATCH SIZE, MOMENTUM, AND WEIGHT DECAY."
   ]
  },
  {
   "cell_type": "markdown",
   "metadata": {},
   "source": [
    "In this project we dived dive into the Leslie Neil Smith’s 1cycle Learning Rate Policy, introduced in the 2018 paper, named, A disciplined approach to neural network hyper-parameters: Part 1 — learning rate, batch size, momentum, and weight decay, summarized in the following [Medium Post](https://medium.com/@surhar88/fast-ai-journey-part-1-special-lesson-8de6c913d7a5)."
   ]
  }
 ],
 "metadata": {
  "kernelspec": {
   "display_name": "Python 3",
   "language": "python",
   "name": "python3"
  },
  "language_info": {
   "codemirror_mode": {
    "name": "ipython",
    "version": 3
   },
   "file_extension": ".py",
   "mimetype": "text/x-python",
   "name": "python",
   "nbconvert_exporter": "python",
   "pygments_lexer": "ipython3",
   "version": "3.6.7"
  }
 },
 "nbformat": 4,
 "nbformat_minor": 2
}
