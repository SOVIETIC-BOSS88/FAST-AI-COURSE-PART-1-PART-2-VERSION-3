{
 "cells": [
  {
   "cell_type": "markdown",
   "metadata": {},
   "source": [
    "# FAST AI JOURNEY: PART 1. LESSON 14.1.\n",
    "## Documenting my fast.ai journey: PAPER REVIEW. MIXUP: BEYOND EMPIRICAL RISK MINIMIZATION."
   ]
  },
  {
   "cell_type": "markdown",
   "metadata": {},
   "source": [
    "In this project we dived into into the 2018 paper, named mixup: Beyond Empirical Risk Minimization, by Hongyi Zhang, Moustapha Cisse, Yann N. Dauphin, David Lopez-Paz, which was was published as a conference paper at the 2018 ICLR. Particularly, we will focus on the the Section 2 of the paper, summarized in the following [Medium Post](https://medium.com/@surhar88/fast-ai-journey-part-2-lesson-14-1-24a51f6a1cf0)."
   ]
  },
  {
   "cell_type": "code",
   "execution_count": null,
   "metadata": {},
   "outputs": [],
   "source": []
  }
 ],
 "metadata": {
  "kernelspec": {
   "display_name": "Python 3",
   "language": "python",
   "name": "python3"
  },
  "language_info": {
   "codemirror_mode": {
    "name": "ipython",
    "version": 3
   },
   "file_extension": ".py",
   "mimetype": "text/x-python",
   "name": "python",
   "nbconvert_exporter": "python",
   "pygments_lexer": "ipython3",
   "version": "3.6.7"
  }
 },
 "nbformat": 4,
 "nbformat_minor": 2
}
