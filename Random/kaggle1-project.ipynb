{
 "cells": [
  {
   "cell_type": "markdown",
   "metadata": {},
   "source": [
    "# FAST AI JOURNEY: INTERMEZZO.\n",
    "## Documenting my fast.ai journey: FIRST KAGGLE COMPETITION."
   ]
  },
  {
   "cell_type": "markdown",
   "metadata": {},
   "source": [
    "In this new project, we will analyze the '20 Years of Games' Dataset, available on Kaggle, using what we have learned on collaborative filtering and tabular data.\n",
    "\n",
    "Every notebook starts with the following three lines; they ensure that any edits to libraries you make are reloaded here automatically, and also that any charts or images displayed are shown in this notebook."
   ]
  },
  {
   "cell_type": "markdown",
   "metadata": {},
   "source": [
    "# Tabular Models."
   ]
  },
  {
   "cell_type": "code",
   "execution_count": 1,
   "metadata": {},
   "outputs": [],
   "source": [
    "%reload_ext autoreload\n",
    "%autoreload 2"
   ]
  },
  {
   "cell_type": "code",
   "execution_count": 2,
   "metadata": {},
   "outputs": [],
   "source": [
    "from fastai import *\n",
    "from fastai.tabular import *"
   ]
  },
  {
   "cell_type": "code",
   "execution_count": 3,
   "metadata": {},
   "outputs": [],
   "source": [
    "import pandas as pd\n",
    "import numpy as np"
   ]
  },
  {
   "cell_type": "markdown",
   "metadata": {},
   "source": [
    "## Getting the Data."
   ]
  },
  {
   "cell_type": "markdown",
   "metadata": {},
   "source": [
    "The Steam Video Games Dataset isn't available on the [fastai dataset page](https://course.fast.ai/datasets) due to copyright restrictions. You can download it from Kaggle however. Let's see how to do this by using the [Kaggle API](https://github.com/Kaggle/kaggle-api) as it's going to be pretty useful to you if you want to join a competition or use other Kaggle datasets later on.\n",
    "\n",
    "First, install the Kaggle API by uncommenting the following line and executing it, or by executing it in your terminal (depending on your platform you may need to modify this slightly to either add `source activate fastai` or similar, or prefix `pip` with a path. Have a look at how `conda install` is called for your platform in the appropriate *Returning to work* section of https://course-v3.fast.ai/. (Depending on your environment, you may also need to append \"--user\" to the command.)"
   ]
  },
  {
   "cell_type": "code",
   "execution_count": 4,
   "metadata": {},
   "outputs": [],
   "source": [
    "#! pip install kaggle --upgrade --user"
   ]
  },
  {
   "cell_type": "markdown",
   "metadata": {},
   "source": [
    "Then you need to upload your credentials from Kaggle on your instance. Login to kaggle and click on your profile picture on the top left corner, then 'My account'. Scroll down until you find a button named 'Create New API Token' and click on it. This will trigger the download of a file named 'kaggle.json'.\n",
    "\n",
    "Upload this file to the directory this notebook is running in, by clicking \"Upload\" on your main Jupyter page, then uncomment and execute the next two commands (or run them in a terminal)."
   ]
  },
  {
   "cell_type": "code",
   "execution_count": 5,
   "metadata": {},
   "outputs": [],
   "source": [
    "#! mkdir -p ~/.kaggle/\n",
    "#! mv kaggle.json ~/.kaggle/"
   ]
  },
  {
   "cell_type": "markdown",
   "metadata": {},
   "source": [
    "You're all set to download the data from [20 Years of Games](https://www.kaggle.com/egrinstein/20-years-of-games/version/2)."
   ]
  },
  {
   "cell_type": "code",
   "execution_count": 6,
   "metadata": {},
   "outputs": [],
   "source": [
    "#! chmod 600 /home/jupyter/.kaggle/kaggle.json"
   ]
  },
  {
   "cell_type": "code",
   "execution_count": 7,
   "metadata": {},
   "outputs": [
    {
     "data": {
      "text/plain": [
       "PosixPath('data/kaggle/microsoft')"
      ]
     },
     "execution_count": 7,
     "metadata": {},
     "output_type": "execute_result"
    }
   ],
   "source": [
    "path = Path('data/kaggle/microsoft')\n",
    "path.mkdir(parents=True, exist_ok=True)\n",
    "path"
   ]
  },
  {
   "cell_type": "code",
   "execution_count": 8,
   "metadata": {
    "scrolled": true
   },
   "outputs": [],
   "source": [
    "#! kaggle competitions download -c microsoft-malware-prediction  -p {path}"
   ]
  },
  {
   "cell_type": "code",
   "execution_count": 9,
   "metadata": {},
   "outputs": [],
   "source": [
    "#It is better to do these manually in the terminal, for now.\n",
    "#Unzip without the flags.\n",
    "#! sudo chmod 700 {path}/sample_submission.csv.zip\n",
    "#! sudo chmod 700 {path}/test.csv.zip\n",
    "#! sudo chmod 700 {path}/train.csv.zip\n",
    "\n",
    "#! sudo unzip -q -n {path}/sample_submission.csv.zip -d {path}\n",
    "#! sudo unzip -q -n {path}/test.csv.zip -d {path}\n",
    "#! sudo unzip -q -n {path}/train.csv.zip -d {path}\n",
    "\n",
    "#! sudo chmod 700 {path}/sample_submission.csv\n",
    "#! sudo chmod 700 {path}/test.csv\n",
    "#! sudo chmod 700 {path}/train.csv"
   ]
  },
  {
   "cell_type": "markdown",
   "metadata": {},
   "source": [
    "Tabular data should be in a Pandas `DataFrame`."
   ]
  },
  {
   "cell_type": "code",
   "execution_count": 10,
   "metadata": {
    "scrolled": false
   },
   "outputs": [
    {
     "data": {
      "text/plain": [
       "(8921483, 83)"
      ]
     },
     "execution_count": 10,
     "metadata": {},
     "output_type": "execute_result"
    }
   ],
   "source": [
    "df_train = pd.read_csv(path/'train.csv', low_memory=False)\n",
    "df_test = pd.read_csv(path/'test.csv', low_memory=False)\n",
    "df_train.shape\n",
    "#df_train.describe()"
   ]
  },
  {
   "cell_type": "code",
   "execution_count": 11,
   "metadata": {},
   "outputs": [
    {
     "data": {
      "text/plain": [
       "(7853253, 82)"
      ]
     },
     "execution_count": 11,
     "metadata": {},
     "output_type": "execute_result"
    }
   ],
   "source": [
    "df_test.shape"
   ]
  },
  {
   "cell_type": "code",
   "execution_count": 12,
   "metadata": {},
   "outputs": [],
   "source": [
    "#remove_cols = ['PuaMode', 'Census_ProcessorClass', 'DefaultBrowsersIdentifier', 'Census_IsWIMBootEnabled', 'IsBeta', 'Census_IsFlightsDisabled', 'Census_IsFlightingInternal', 'AutoSampleOptIn', 'Census_ThresholdOptIn', 'SMode', 'Census_IsPortableOperatingSystem', 'Census_DeviceFamily', 'UacLuaenable', 'Census_IsVirtualDevice', 'ProductName', 'HasTpm', 'IsSxsPassiveMode', 'Firewall', 'AVProductsEnabled', 'RtpStateBitfield', 'OsVer', 'Platform', 'Census_IsPenCapable', 'EngineVersion', 'OsSuite', 'IeVerIdentifier', 'Census_ProcessorManufacturerIdentifier', 'Census_InternalPrimaryDisplayResolutionVertical', 'Census_OSSkuName', 'Census_OSInstallLanguageIdentifier', 'OsBuild', 'Census_OSBuildNumber', 'Processor', 'SkuEdition']\n",
    "#df_train.drop(remove_cols, axis=1, inplace=True)"
   ]
  },
  {
   "cell_type": "code",
   "execution_count": 13,
   "metadata": {},
   "outputs": [],
   "source": [
    "droppable_features = []"
   ]
  },
  {
   "cell_type": "code",
   "execution_count": 14,
   "metadata": {},
   "outputs": [],
   "source": [
    "droppable_features.append('PuaMode')\n",
    "droppable_features.append('Census_ProcessorClass')"
   ]
  },
  {
   "cell_type": "code",
   "execution_count": 15,
   "metadata": {},
   "outputs": [],
   "source": [
    "pd.options.display.float_format = '{:,.4f}'.format\n",
    "sk_df_train = pd.DataFrame([{'column': c, 'uniq': df_train[c].nunique(), 'skewness': df_train[c].value_counts(normalize=True).values[0] * 100} for c in df_train.columns])\n",
    "sk_df_train = sk_df_train.sort_values('skewness', ascending=False)"
   ]
  },
  {
   "cell_type": "code",
   "execution_count": 16,
   "metadata": {},
   "outputs": [],
   "source": [
    "sk_df_test = pd.DataFrame([{'column': c, 'uniq': df_test[c].nunique(), 'skewness': df_test[c].value_counts(normalize=True).values[0] * 100} for c in df_test.columns])\n",
    "sk_df_test = sk_df_test.sort_values('skewness', ascending=False)"
   ]
  },
  {
   "cell_type": "code",
   "execution_count": 17,
   "metadata": {},
   "outputs": [],
   "source": [
    "droppable_features.extend(sk_df_train[sk_df_train.skewness > 99].column.tolist())"
   ]
  },
  {
   "cell_type": "code",
   "execution_count": 18,
   "metadata": {},
   "outputs": [
    {
     "data": {
      "text/plain": [
       "['PuaMode',\n",
       " 'Census_ProcessorClass',\n",
       " 'Census_IsWIMBootEnabled',\n",
       " 'IsBeta',\n",
       " 'Census_IsFlightsDisabled',\n",
       " 'Census_IsFlightingInternal',\n",
       " 'AutoSampleOptIn',\n",
       " 'Census_ThresholdOptIn',\n",
       " 'SMode',\n",
       " 'Census_IsPortableOperatingSystem',\n",
       " 'PuaMode',\n",
       " 'Census_DeviceFamily',\n",
       " 'UacLuaenable',\n",
       " 'Census_IsVirtualDevice']"
      ]
     },
     "execution_count": 18,
     "metadata": {},
     "output_type": "execute_result"
    }
   ],
   "source": [
    "droppable_features"
   ]
  },
  {
   "cell_type": "code",
   "execution_count": 19,
   "metadata": {},
   "outputs": [],
   "source": [
    "droppable_features.remove('PuaMode')"
   ]
  },
  {
   "cell_type": "code",
   "execution_count": 20,
   "metadata": {},
   "outputs": [],
   "source": [
    "df_train.drop(droppable_features, axis=1, inplace=True)\n",
    "df_test.drop(droppable_features, axis=1, inplace=True)"
   ]
  },
  {
   "cell_type": "code",
   "execution_count": 21,
   "metadata": {},
   "outputs": [
    {
     "data": {
      "text/plain": [
       "DefaultBrowsersIdentifier    0.9609\n",
       "OrganizationIdentifier       0.3161\n",
       "SmartScreen                  0.4455\n",
       "Census_InternalBatteryType   0.7614\n",
       "dtype: float64"
      ]
     },
     "execution_count": 21,
     "metadata": {},
     "output_type": "execute_result"
    }
   ],
   "source": [
    "null_counts = df_train.isnull().sum()\n",
    "null_counts = null_counts / df_train.shape[0]\n",
    "null_counts[null_counts > 0.1]\n",
    "\n",
    "null_counts = df_test.isnull().sum()\n",
    "null_counts = null_counts / df_test.shape[0]\n",
    "null_counts[null_counts > 0.1]"
   ]
  },
  {
   "cell_type": "code",
   "execution_count": 22,
   "metadata": {},
   "outputs": [
    {
     "data": {
      "text/plain": [
       "239.0000      46056\n",
       "3,195.0000    42692\n",
       "1,632.0000    28751\n",
       "3,176.0000    24220\n",
       "146.0000      20756\n",
       "Name: DefaultBrowsersIdentifier, dtype: int64"
      ]
     },
     "execution_count": 22,
     "metadata": {},
     "output_type": "execute_result"
    }
   ],
   "source": [
    "df_train.DefaultBrowsersIdentifier.value_counts().head(5)"
   ]
  },
  {
   "cell_type": "code",
   "execution_count": 23,
   "metadata": {},
   "outputs": [],
   "source": [
    "df_train.DefaultBrowsersIdentifier.fillna(0, inplace=True)\n",
    "df_test.DefaultBrowsersIdentifier.fillna(0, inplace=True)"
   ]
  },
  {
   "cell_type": "code",
   "execution_count": 24,
   "metadata": {},
   "outputs": [
    {
     "data": {
      "text/plain": [
       "RequireAdmin    4316183\n",
       "ExistsNotSet    1046183\n",
       "Off              186553\n",
       "Warn             135483\n",
       "Prompt            34533\n",
       "Block             22533\n",
       "off                1350\n",
       "On                  731\n",
       "&#x02;              416\n",
       "&#x01;              335\n",
       "on                  147\n",
       "requireadmin         10\n",
       "OFF                   4\n",
       "0                     3\n",
       "Promt                 2\n",
       "prompt                1\n",
       "&#x03;                1\n",
       "00000000              1\n",
       "Enabled               1\n",
       "requireAdmin          1\n",
       "warn                  1\n",
       "Name: SmartScreen, dtype: int64"
      ]
     },
     "execution_count": 24,
     "metadata": {},
     "output_type": "execute_result"
    }
   ],
   "source": [
    "df_train.SmartScreen.value_counts()"
   ]
  },
  {
   "cell_type": "code",
   "execution_count": 25,
   "metadata": {},
   "outputs": [],
   "source": [
    "trans_dict = {\n",
    "    'off': 'Off', '&#x02;': '2', '&#x01;': '1', 'on': 'On', 'requireadmin': 'RequireAdmin', 'OFF': 'Off', \n",
    "    'Promt': 'Prompt', 'requireAdmin': 'RequireAdmin', 'prompt': 'Prompt', 'warn': 'Warn', \n",
    "    '00000000': '0', '&#x03;': '3', np.nan: 'NoExist'\n",
    "}\n",
    "df_train.replace({'SmartScreen': trans_dict}, inplace=True)\n",
    "df_test.replace({'SmartScreen': trans_dict}, inplace=True)"
   ]
  },
  {
   "cell_type": "code",
   "execution_count": 26,
   "metadata": {},
   "outputs": [
    {
     "data": {
      "text/plain": [
       "0"
      ]
     },
     "execution_count": 26,
     "metadata": {},
     "output_type": "execute_result"
    }
   ],
   "source": [
    "df_train.SmartScreen.isnull().sum()"
   ]
  },
  {
   "cell_type": "code",
   "execution_count": 27,
   "metadata": {},
   "outputs": [],
   "source": [
    "df_train.replace({'OrganizationIdentifier': {np.nan: 0}}, inplace=True)"
   ]
  },
  {
   "cell_type": "code",
   "execution_count": 28,
   "metadata": {},
   "outputs": [],
   "source": [
    "trans_dict = {\n",
    "    '\u001f˙˙˙': 'unknown', 'unkn': 'unknown', np.nan: 'unknown'\n",
    "}\n",
    "df_train.replace({'Census_InternalBatteryType': trans_dict}, inplace=True)\n",
    "df_test.replace({'Census_InternalBatteryType': trans_dict}, inplace=True)"
   ]
  },
  {
   "cell_type": "code",
   "execution_count": 29,
   "metadata": {},
   "outputs": [
    {
     "data": {
      "text/plain": [
       "(8921483, 70)"
      ]
     },
     "execution_count": 29,
     "metadata": {},
     "output_type": "execute_result"
    }
   ],
   "source": [
    "df_train.shape"
   ]
  },
  {
   "cell_type": "code",
   "execution_count": 30,
   "metadata": {
    "scrolled": true
   },
   "outputs": [
    {
     "data": {
      "text/plain": [
       "(1138869, 69)"
      ]
     },
     "execution_count": 30,
     "metadata": {},
     "output_type": "execute_result"
    }
   ],
   "source": [
    "df_train.dropna(inplace=True)\n",
    "df_train.shape\n",
    "\n",
    "df_test.dropna(inplace=True)\n",
    "df_test.shape"
   ]
  },
  {
   "cell_type": "code",
   "execution_count": 30,
   "metadata": {},
   "outputs": [
    {
     "data": {
      "text/plain": [
       "(7853253, 69)"
      ]
     },
     "execution_count": 30,
     "metadata": {},
     "output_type": "execute_result"
    }
   ],
   "source": [
    "#df_test.dropna(inplace=True)\n",
    "df_test.shape"
   ]
  },
  {
   "cell_type": "code",
   "execution_count": 31,
   "metadata": {},
   "outputs": [],
   "source": [
    "df_train.drop('MachineIdentifier', axis=1, inplace=True)\n",
    "df_test.drop('MachineIdentifier', axis=1, inplace=True)"
   ]
  },
  {
   "cell_type": "code",
   "execution_count": 32,
   "metadata": {},
   "outputs": [],
   "source": [
    "df_train['SmartScreen'] = df_train.SmartScreen.astype('category')\n",
    "df_train['Census_InternalBatteryType'] = df_train.Census_InternalBatteryType.astype('category')\n",
    "\n",
    "df_test['SmartScreen'] = df_test.SmartScreen.astype('category')\n",
    "df_test['Census_InternalBatteryType'] = df_test.Census_InternalBatteryType.astype('category')\n",
    "\n",
    "cate_cols = df_train.select_dtypes(include='category').columns.tolist()\n",
    "cate_cols = df_test.select_dtypes(include='category').columns.tolist()\n",
    "\n",
    "from sklearn.preprocessing import LabelEncoder\n",
    "le = LabelEncoder()\n",
    "\n",
    "for col in cate_cols:\n",
    "    df_train[col] = le.fit_transform(df_train[col])\n",
    "    df_test[col] = le.fit_transform(df_test[col])   "
   ]
  },
  {
   "cell_type": "code",
   "execution_count": 33,
   "metadata": {},
   "outputs": [
    {
     "name": "stdout",
     "output_type": "stream",
     "text": [
      "CPU times: user 0 ns, sys: 0 ns, total: 0 ns\n",
      "Wall time: 5.25 µs\n",
      "Memory usage of dataframe is 4696.52 MB\n",
      "Memory usage after optimization is: 2475.88 MB\n",
      "Decreased by 47.3%\n",
      "Memory usage of dataframe is 4074.26 MB\n",
      "Memory usage after optimization is: 2171.94 MB\n",
      "Decreased by 46.7%\n"
     ]
    }
   ],
   "source": [
    "def reduce_mem_usage(df):\n",
    "    \"\"\" iterate through all the columns of a dataframe and modify the data type\n",
    "        to reduce memory usage.        \n",
    "    \"\"\"\n",
    "    start_mem = df.memory_usage().sum() / 1024**2\n",
    "    print('Memory usage of dataframe is {:.2f} MB'.format(start_mem))\n",
    "    \n",
    "    for col in df.columns:\n",
    "        col_type = df[col].dtype\n",
    "        \n",
    "        if col_type != object:\n",
    "            c_min = df[col].min()\n",
    "            c_max = df[col].max()\n",
    "            if str(col_type)[:3] == 'int':\n",
    "                if c_min > np.iinfo(np.int8).min and c_max < np.iinfo(np.int8).max:\n",
    "                    df[col] = df[col].astype(np.int8)\n",
    "                elif c_min > np.iinfo(np.int16).min and c_max < np.iinfo(np.int16).max:\n",
    "                    df[col] = df[col].astype(np.int16)\n",
    "                elif c_min > np.iinfo(np.int32).min and c_max < np.iinfo(np.int32).max:\n",
    "                    df[col] = df[col].astype(np.int32)\n",
    "                elif c_min > np.iinfo(np.int64).min and c_max < np.iinfo(np.int64).max:\n",
    "                    df[col] = df[col].astype(np.int64)  \n",
    "            else:\n",
    "                if c_min > np.finfo(np.float16).min and c_max < np.finfo(np.float16).max:\n",
    "                    df[col] = df[col].astype(np.float16)\n",
    "                elif c_min > np.finfo(np.float32).min and c_max < np.finfo(np.float32).max:\n",
    "                    df[col] = df[col].astype(np.float32)\n",
    "                else:\n",
    "                    df[col] = df[col].astype(np.float64)\n",
    "        else:\n",
    "            #df[col] = df[col].astype('category')\n",
    "            df[col] = df[col].astype('object')\n",
    "\n",
    "    end_mem = df.memory_usage().sum() / 1024**2\n",
    "    print('Memory usage after optimization is: {:.2f} MB'.format(end_mem))\n",
    "    print('Decreased by {:.1f}%'.format(100 * (start_mem - end_mem) / start_mem))\n",
    "    \n",
    "    return df\n",
    "\n",
    "%time\n",
    "df_train = reduce_mem_usage(df_train)\n",
    "df_test = reduce_mem_usage(df_test)"
   ]
  },
  {
   "cell_type": "code",
   "execution_count": 34,
   "metadata": {},
   "outputs": [],
   "source": [
    "corr_remove = []"
   ]
  },
  {
   "cell_type": "code",
   "execution_count": 35,
   "metadata": {},
   "outputs": [],
   "source": [
    "corr_remove.append('Platform')\n",
    "corr_remove.append('Census_OSSkuName')\n",
    "corr_remove.append('Census_OSInstallLanguageIdentifier')\n",
    "corr_remove.append('Processor')"
   ]
  },
  {
   "cell_type": "code",
   "execution_count": 36,
   "metadata": {},
   "outputs": [],
   "source": [
    "df_train.drop(corr_remove, axis=1, inplace=True)\n",
    "df_test.drop(corr_remove, axis=1, inplace=True)"
   ]
  },
  {
   "cell_type": "code",
   "execution_count": 37,
   "metadata": {},
   "outputs": [],
   "source": [
    "droppable_features.extend(corr_remove)"
   ]
  },
  {
   "cell_type": "code",
   "execution_count": 38,
   "metadata": {},
   "outputs": [
    {
     "name": "stdout",
     "output_type": "stream",
     "text": [
      "17\n"
     ]
    },
    {
     "data": {
      "text/plain": [
       "['Census_ProcessorClass',\n",
       " 'Census_IsWIMBootEnabled',\n",
       " 'IsBeta',\n",
       " 'Census_IsFlightsDisabled',\n",
       " 'Census_IsFlightingInternal',\n",
       " 'AutoSampleOptIn',\n",
       " 'Census_ThresholdOptIn',\n",
       " 'SMode',\n",
       " 'Census_IsPortableOperatingSystem',\n",
       " 'PuaMode',\n",
       " 'Census_DeviceFamily',\n",
       " 'UacLuaenable',\n",
       " 'Census_IsVirtualDevice',\n",
       " 'Platform',\n",
       " 'Census_OSSkuName',\n",
       " 'Census_OSInstallLanguageIdentifier',\n",
       " 'Processor']"
      ]
     },
     "execution_count": 38,
     "metadata": {},
     "output_type": "execute_result"
    }
   ],
   "source": [
    "print(len(droppable_features))\n",
    "droppable_features"
   ]
  },
  {
   "cell_type": "code",
   "execution_count": 39,
   "metadata": {},
   "outputs": [
    {
     "ename": "KeyError",
     "evalue": "\"['PuaMode' 'Census_ProcessorClass' 'Census_IsWIMBootEnabled' 'IsBeta' 'Census_IsFlightsDisabled'\\n 'Census_IsFlightingInternal' 'AutoSampleOptIn' 'Census_ThresholdOptIn' 'SMode' 'Census_IsPortableOperatingSystem'\\n 'Census_DeviceFamily' 'UacLuaenable' 'Census_IsVirtualDevice' 'Platform' 'Census_OSSkuName'\\n 'Census_OSInstallLanguageIdentifier' 'Processor'] not found in axis\"",
     "output_type": "error",
     "traceback": [
      "\u001b[0;31m---------------------------------------------------------------------------\u001b[0m",
      "\u001b[0;31mKeyError\u001b[0m                                  Traceback (most recent call last)",
      "\u001b[0;32m<ipython-input-39-9251deb76444>\u001b[0m in \u001b[0;36m<module>\u001b[0;34m\u001b[0m\n\u001b[1;32m      1\u001b[0m \u001b[0mremove_cols\u001b[0m \u001b[0;34m=\u001b[0m \u001b[0;34m[\u001b[0m\u001b[0;34m'PuaMode'\u001b[0m\u001b[0;34m,\u001b[0m \u001b[0;34m'Census_ProcessorClass'\u001b[0m\u001b[0;34m,\u001b[0m \u001b[0;34m'Census_IsWIMBootEnabled'\u001b[0m\u001b[0;34m,\u001b[0m \u001b[0;34m'IsBeta'\u001b[0m\u001b[0;34m,\u001b[0m \u001b[0;34m'Census_IsFlightsDisabled'\u001b[0m\u001b[0;34m,\u001b[0m \u001b[0;34m'Census_IsFlightingInternal'\u001b[0m\u001b[0;34m,\u001b[0m \u001b[0;34m'AutoSampleOptIn'\u001b[0m\u001b[0;34m,\u001b[0m \u001b[0;34m'Census_ThresholdOptIn'\u001b[0m\u001b[0;34m,\u001b[0m \u001b[0;34m'SMode'\u001b[0m\u001b[0;34m,\u001b[0m \u001b[0;34m'Census_IsPortableOperatingSystem'\u001b[0m\u001b[0;34m,\u001b[0m \u001b[0;34m'Census_DeviceFamily'\u001b[0m\u001b[0;34m,\u001b[0m \u001b[0;34m'UacLuaenable'\u001b[0m\u001b[0;34m,\u001b[0m \u001b[0;34m'Census_IsVirtualDevice'\u001b[0m\u001b[0;34m,\u001b[0m \u001b[0;34m'Platform'\u001b[0m\u001b[0;34m,\u001b[0m \u001b[0;34m'Census_OSSkuName'\u001b[0m\u001b[0;34m,\u001b[0m \u001b[0;34m'Census_OSInstallLanguageIdentifier'\u001b[0m\u001b[0;34m,\u001b[0m \u001b[0;34m'Processor'\u001b[0m\u001b[0;34m]\u001b[0m\u001b[0;34m\u001b[0m\u001b[0;34m\u001b[0m\u001b[0m\n\u001b[1;32m      2\u001b[0m \u001b[0;34m\u001b[0m\u001b[0m\n\u001b[0;32m----> 3\u001b[0;31m \u001b[0mdf_train\u001b[0m\u001b[0;34m.\u001b[0m\u001b[0mdrop\u001b[0m\u001b[0;34m(\u001b[0m\u001b[0mremove_cols\u001b[0m\u001b[0;34m,\u001b[0m \u001b[0maxis\u001b[0m\u001b[0;34m=\u001b[0m\u001b[0;36m1\u001b[0m\u001b[0;34m,\u001b[0m \u001b[0minplace\u001b[0m\u001b[0;34m=\u001b[0m\u001b[0;32mTrue\u001b[0m\u001b[0;34m)\u001b[0m\u001b[0;34m\u001b[0m\u001b[0;34m\u001b[0m\u001b[0m\n\u001b[0m\u001b[1;32m      4\u001b[0m \u001b[0;34m\u001b[0m\u001b[0m\n\u001b[1;32m      5\u001b[0m \u001b[0;31m#df_test.drop(remove_cols, axis=1, inplace=True)\u001b[0m\u001b[0;34m\u001b[0m\u001b[0;34m\u001b[0m\u001b[0;34m\u001b[0m\u001b[0m\n",
      "\u001b[0;32m/opt/anaconda3/lib/python3.6/site-packages/pandas/core/frame.py\u001b[0m in \u001b[0;36mdrop\u001b[0;34m(self, labels, axis, index, columns, level, inplace, errors)\u001b[0m\n\u001b[1;32m   3695\u001b[0m                                            \u001b[0mindex\u001b[0m\u001b[0;34m=\u001b[0m\u001b[0mindex\u001b[0m\u001b[0;34m,\u001b[0m \u001b[0mcolumns\u001b[0m\u001b[0;34m=\u001b[0m\u001b[0mcolumns\u001b[0m\u001b[0;34m,\u001b[0m\u001b[0;34m\u001b[0m\u001b[0;34m\u001b[0m\u001b[0m\n\u001b[1;32m   3696\u001b[0m                                            \u001b[0mlevel\u001b[0m\u001b[0;34m=\u001b[0m\u001b[0mlevel\u001b[0m\u001b[0;34m,\u001b[0m \u001b[0minplace\u001b[0m\u001b[0;34m=\u001b[0m\u001b[0minplace\u001b[0m\u001b[0;34m,\u001b[0m\u001b[0;34m\u001b[0m\u001b[0;34m\u001b[0m\u001b[0m\n\u001b[0;32m-> 3697\u001b[0;31m                                            errors=errors)\n\u001b[0m\u001b[1;32m   3698\u001b[0m \u001b[0;34m\u001b[0m\u001b[0m\n\u001b[1;32m   3699\u001b[0m     @rewrite_axis_style_signature('mapper', [('copy', True),\n",
      "\u001b[0;32m/opt/anaconda3/lib/python3.6/site-packages/pandas/core/generic.py\u001b[0m in \u001b[0;36mdrop\u001b[0;34m(self, labels, axis, index, columns, level, inplace, errors)\u001b[0m\n\u001b[1;32m   3109\u001b[0m         \u001b[0;32mfor\u001b[0m \u001b[0maxis\u001b[0m\u001b[0;34m,\u001b[0m \u001b[0mlabels\u001b[0m \u001b[0;32min\u001b[0m \u001b[0maxes\u001b[0m\u001b[0;34m.\u001b[0m\u001b[0mitems\u001b[0m\u001b[0;34m(\u001b[0m\u001b[0;34m)\u001b[0m\u001b[0;34m:\u001b[0m\u001b[0;34m\u001b[0m\u001b[0;34m\u001b[0m\u001b[0m\n\u001b[1;32m   3110\u001b[0m             \u001b[0;32mif\u001b[0m \u001b[0mlabels\u001b[0m \u001b[0;32mis\u001b[0m \u001b[0;32mnot\u001b[0m \u001b[0;32mNone\u001b[0m\u001b[0;34m:\u001b[0m\u001b[0;34m\u001b[0m\u001b[0;34m\u001b[0m\u001b[0m\n\u001b[0;32m-> 3111\u001b[0;31m                 \u001b[0mobj\u001b[0m \u001b[0;34m=\u001b[0m \u001b[0mobj\u001b[0m\u001b[0;34m.\u001b[0m\u001b[0m_drop_axis\u001b[0m\u001b[0;34m(\u001b[0m\u001b[0mlabels\u001b[0m\u001b[0;34m,\u001b[0m \u001b[0maxis\u001b[0m\u001b[0;34m,\u001b[0m \u001b[0mlevel\u001b[0m\u001b[0;34m=\u001b[0m\u001b[0mlevel\u001b[0m\u001b[0;34m,\u001b[0m \u001b[0merrors\u001b[0m\u001b[0;34m=\u001b[0m\u001b[0merrors\u001b[0m\u001b[0;34m)\u001b[0m\u001b[0;34m\u001b[0m\u001b[0;34m\u001b[0m\u001b[0m\n\u001b[0m\u001b[1;32m   3112\u001b[0m \u001b[0;34m\u001b[0m\u001b[0m\n\u001b[1;32m   3113\u001b[0m         \u001b[0;32mif\u001b[0m \u001b[0minplace\u001b[0m\u001b[0;34m:\u001b[0m\u001b[0;34m\u001b[0m\u001b[0;34m\u001b[0m\u001b[0m\n",
      "\u001b[0;32m/opt/anaconda3/lib/python3.6/site-packages/pandas/core/generic.py\u001b[0m in \u001b[0;36m_drop_axis\u001b[0;34m(self, labels, axis, level, errors)\u001b[0m\n\u001b[1;32m   3141\u001b[0m                 \u001b[0mnew_axis\u001b[0m \u001b[0;34m=\u001b[0m \u001b[0maxis\u001b[0m\u001b[0;34m.\u001b[0m\u001b[0mdrop\u001b[0m\u001b[0;34m(\u001b[0m\u001b[0mlabels\u001b[0m\u001b[0;34m,\u001b[0m \u001b[0mlevel\u001b[0m\u001b[0;34m=\u001b[0m\u001b[0mlevel\u001b[0m\u001b[0;34m,\u001b[0m \u001b[0merrors\u001b[0m\u001b[0;34m=\u001b[0m\u001b[0merrors\u001b[0m\u001b[0;34m)\u001b[0m\u001b[0;34m\u001b[0m\u001b[0;34m\u001b[0m\u001b[0m\n\u001b[1;32m   3142\u001b[0m             \u001b[0;32melse\u001b[0m\u001b[0;34m:\u001b[0m\u001b[0;34m\u001b[0m\u001b[0;34m\u001b[0m\u001b[0m\n\u001b[0;32m-> 3143\u001b[0;31m                 \u001b[0mnew_axis\u001b[0m \u001b[0;34m=\u001b[0m \u001b[0maxis\u001b[0m\u001b[0;34m.\u001b[0m\u001b[0mdrop\u001b[0m\u001b[0;34m(\u001b[0m\u001b[0mlabels\u001b[0m\u001b[0;34m,\u001b[0m \u001b[0merrors\u001b[0m\u001b[0;34m=\u001b[0m\u001b[0merrors\u001b[0m\u001b[0;34m)\u001b[0m\u001b[0;34m\u001b[0m\u001b[0;34m\u001b[0m\u001b[0m\n\u001b[0m\u001b[1;32m   3144\u001b[0m             \u001b[0mresult\u001b[0m \u001b[0;34m=\u001b[0m \u001b[0mself\u001b[0m\u001b[0;34m.\u001b[0m\u001b[0mreindex\u001b[0m\u001b[0;34m(\u001b[0m\u001b[0;34m**\u001b[0m\u001b[0;34m{\u001b[0m\u001b[0maxis_name\u001b[0m\u001b[0;34m:\u001b[0m \u001b[0mnew_axis\u001b[0m\u001b[0;34m}\u001b[0m\u001b[0;34m)\u001b[0m\u001b[0;34m\u001b[0m\u001b[0;34m\u001b[0m\u001b[0m\n\u001b[1;32m   3145\u001b[0m \u001b[0;34m\u001b[0m\u001b[0m\n",
      "\u001b[0;32m/opt/anaconda3/lib/python3.6/site-packages/pandas/core/indexes/base.py\u001b[0m in \u001b[0;36mdrop\u001b[0;34m(self, labels, errors)\u001b[0m\n\u001b[1;32m   4402\u001b[0m             \u001b[0;32mif\u001b[0m \u001b[0merrors\u001b[0m \u001b[0;34m!=\u001b[0m \u001b[0;34m'ignore'\u001b[0m\u001b[0;34m:\u001b[0m\u001b[0;34m\u001b[0m\u001b[0;34m\u001b[0m\u001b[0m\n\u001b[1;32m   4403\u001b[0m                 raise KeyError(\n\u001b[0;32m-> 4404\u001b[0;31m                     '{} not found in axis'.format(labels[mask]))\n\u001b[0m\u001b[1;32m   4405\u001b[0m             \u001b[0mindexer\u001b[0m \u001b[0;34m=\u001b[0m \u001b[0mindexer\u001b[0m\u001b[0;34m[\u001b[0m\u001b[0;34m~\u001b[0m\u001b[0mmask\u001b[0m\u001b[0;34m]\u001b[0m\u001b[0;34m\u001b[0m\u001b[0;34m\u001b[0m\u001b[0m\n\u001b[1;32m   4406\u001b[0m         \u001b[0;32mreturn\u001b[0m \u001b[0mself\u001b[0m\u001b[0;34m.\u001b[0m\u001b[0mdelete\u001b[0m\u001b[0;34m(\u001b[0m\u001b[0mindexer\u001b[0m\u001b[0;34m)\u001b[0m\u001b[0;34m\u001b[0m\u001b[0;34m\u001b[0m\u001b[0m\n",
      "\u001b[0;31mKeyError\u001b[0m: \"['PuaMode' 'Census_ProcessorClass' 'Census_IsWIMBootEnabled' 'IsBeta' 'Census_IsFlightsDisabled'\\n 'Census_IsFlightingInternal' 'AutoSampleOptIn' 'Census_ThresholdOptIn' 'SMode' 'Census_IsPortableOperatingSystem'\\n 'Census_DeviceFamily' 'UacLuaenable' 'Census_IsVirtualDevice' 'Platform' 'Census_OSSkuName'\\n 'Census_OSInstallLanguageIdentifier' 'Processor'] not found in axis\""
     ]
    }
   ],
   "source": [
    "remove_cols = ['PuaMode', 'Census_ProcessorClass', 'Census_IsWIMBootEnabled', 'IsBeta', 'Census_IsFlightsDisabled', 'Census_IsFlightingInternal', 'AutoSampleOptIn', 'Census_ThresholdOptIn', 'SMode', 'Census_IsPortableOperatingSystem', 'Census_DeviceFamily', 'UacLuaenable', 'Census_IsVirtualDevice', 'Platform', 'Census_OSSkuName', 'Census_OSInstallLanguageIdentifier', 'Processor']\n",
    "\n",
    "df_train.drop(remove_cols, axis=1, inplace=True)\n",
    "\n",
    "#df_test.drop(remove_cols, axis=1, inplace=True)"
   ]
  },
  {
   "cell_type": "code",
   "execution_count": 42,
   "metadata": {
    "scrolled": true
   },
   "outputs": [
    {
     "data": {
      "text/plain": [
       "65"
      ]
     },
     "execution_count": 42,
     "metadata": {},
     "output_type": "execute_result"
    }
   ],
   "source": [
    "features = [feature for feature in df_train.columns]\n",
    "len(features)"
   ]
  },
  {
   "cell_type": "code",
   "execution_count": 43,
   "metadata": {},
   "outputs": [],
   "source": [
    "augmented_features = ['min', 'mean', 'max', 'median', 'std', 'abs_mean', 'abs_median', 'abs_std', 'skew', 'kurt', 'sq_kurt']"
   ]
  },
  {
   "cell_type": "code",
   "execution_count": 44,
   "metadata": {},
   "outputs": [],
   "source": [
    "def augment_df(df):\n",
    "    for feature in features:  \n",
    "        df[f'sq_{feature}'] = df[f'{feature}_2']\n",
    "        df[f'repo_{feature}'] = df[feature].apply(lambda x: 0 if x==0 else 1/x)\n",
    "        df[f'repo_sq_{feature}'] = df[f'sq_{feature}'].apply(lambda x: 0 if x==0 else 1/x)\n",
    "    \n",
    "    df['min'] = df[features].min(axis=1)\n",
    "    df['mean'] = df[features].mean(axis=1)\n",
    "    df['max'] = df[features].max(axis=1)\n",
    "    df['median'] = df[features].median(axis=1)\n",
    "    df['std'] = df[features].std(axis=1)\n",
    "    df['var'] = df[features].var(axis=1)\n",
    "    df['abs_mean'] = df[features].abs().mean(axis=1)\n",
    "    df['abs_median'] = df[features].abs().median(axis=1)\n",
    "    df['abs_std'] = df[features].abs().std(axis=1)\n",
    "    df['skew'] = df[features].skew(axis=1)\n",
    "    df['kurt'] = df[features].kurt(axis=1)\n",
    "    \n",
    "    df['sq_kurt'] = df[[f'sq_{feature}' for feature in features]].kurt(axis=1)"
   ]
  },
  {
   "cell_type": "code",
   "execution_count": 39,
   "metadata": {},
   "outputs": [],
   "source": [
    "valid_idx = range(len(df_train)-2000, len(df_train))"
   ]
  },
  {
   "cell_type": "code",
   "execution_count": 40,
   "metadata": {},
   "outputs": [
    {
     "data": {
      "text/plain": [
       "range(8919483, 8921483)"
      ]
     },
     "execution_count": 40,
     "metadata": {},
     "output_type": "execute_result"
    }
   ],
   "source": [
    "valid_idx"
   ]
  },
  {
   "cell_type": "code",
   "execution_count": 41,
   "metadata": {},
   "outputs": [],
   "source": [
    "class roc(Callback):\n",
    "    '''\n",
    "    ROC_AUC metric callback for fastai. Compute ROC score over each batch and returns the average over batches.\n",
    "    TO DO: rolling average\n",
    "    '''\n",
    "    def on_epoch_begin(self, **kwargs):\n",
    "        self.total = 0\n",
    "        self.batch_count = 0\n",
    "    \n",
    "    def on_batch_end(self, last_output, last_target, **kwargs):\n",
    "        preds = F.softmax(last_output, dim=1)\n",
    "        # roc_auc_score does not work on batches which does not contain both classes.\n",
    "        try:\n",
    "            roc_score = roc_auc_score(to_np(last_target), to_np(preds[:,1]))\n",
    "            self.total += roc_score\n",
    "            self.batch_count += 1\n",
    "        except:\n",
    "            pass\n",
    "    \n",
    "    def on_epoch_end(self, num_batch, **kwargs):\n",
    "        self.metric = self.total/self.batch_count"
   ]
  },
  {
   "cell_type": "code",
   "execution_count": 41,
   "metadata": {},
   "outputs": [],
   "source": [
    "dep_var = 'HasDetections'\n",
    "cat_names = []\n",
    "cont_names = []\n",
    "procs = [FillMissing, Categorify, Normalize]"
   ]
  },
  {
   "cell_type": "code",
   "execution_count": 42,
   "metadata": {},
   "outputs": [
    {
     "data": {
      "text/plain": [
       "['SmartScreen', 'Census_InternalBatteryType']"
      ]
     },
     "execution_count": 42,
     "metadata": {},
     "output_type": "execute_result"
    }
   ],
   "source": [
    "cate_cols"
   ]
  },
  {
   "cell_type": "code",
   "execution_count": 43,
   "metadata": {},
   "outputs": [],
   "source": [
    "#pd.set_option('display.max_columns', 500)\n",
    "#pd.set_option('display.max_rows', 500)"
   ]
  },
  {
   "cell_type": "code",
   "execution_count": 44,
   "metadata": {},
   "outputs": [],
   "source": [
    "#df_train"
   ]
  },
  {
   "cell_type": "code",
   "execution_count": 45,
   "metadata": {},
   "outputs": [],
   "source": [
    "cat_names = ['AppVersion', 'AvSigVersion', 'AVProductStatesIdentifier', 'AVProductsInstalled', 'CountryIdentifier',\n",
    " 'CityIdentifier', 'OrganizationIdentifier', 'GeoNameIdentifier',\n",
    " 'LocaleEnglishNameIdentifier', 'OsBuild', 'OsPlatformSubRelease', 'OsBuildLab', 'SkuEdition', \n",
    " 'IsProtected', 'SmartScreen', 'Census_InternalBatteryType', 'Census_MDC2FormFactor', \n",
    " 'Census_OEMNameIdentifier', 'Census_OEMModelIdentifier', 'Census_ProcessorModelIdentifier',\n",
    " 'Census_PrimaryDiskTypeName', 'Census_HasOpticalDiskDrive', \n",
    " 'Census_ChassisTypeName',  'Census_PowerPlatformRoleName',\n",
    "  'Census_InternalBatteryType', 'Census_OSVersion',  'Census_OSArchitecture', 'Census_OSBranch',\n",
    "  'Census_OSBuildNumber', 'Census_OSBuildRevision', 'Census_OSEdition', 'Census_OSInstallTypeName',\n",
    " 'Census_OSUILocaleIdentifier', 'Census_OSWUAutoUpdateOptionsName', \n",
    " 'Census_GenuineStateName', 'Census_ActivationChannel',\n",
    "    'Census_FlightRing', 'Census_FirmwareManufacturerIdentifier',  'Census_FirmwareVersionIdentifier',\n",
    "      'Census_IsSecureBootEnabled',  'Census_IsTouchEnabled', 'Census_IsAlwaysOnAlwaysConnectedCapable',\n",
    "          'Wdft_IsGamer',  'Wdft_RegionIdentifier' , 'Census_ProcessorCoreCount',\n",
    "            'Census_InternalPrimaryDiagonalDisplaySizeInInches','Census_InternalPrimaryDisplayResolutionHorizontal' ]"
   ]
  },
  {
   "cell_type": "code",
   "execution_count": 46,
   "metadata": {},
   "outputs": [],
   "source": [
    "cont_names = ['Census_PrimaryDiskTotalCapacity',\n",
    "'Census_SystemVolumeTotalCapacity', 'Census_TotalPhysicalRAM', \n",
    "         'Census_InternalBatteryNumberOfCharges',\n",
    "             ]"
   ]
  },
  {
   "cell_type": "code",
   "execution_count": 47,
   "metadata": {},
   "outputs": [],
   "source": [
    "#test = TabularList.from_df(df_train.iloc[800:1000].copy(), path=path, cat_names=cat_names, cont_names=cont_names)\n",
    "test = TabularList.from_df(df_test, path=path, cat_names=cat_names, cont_names=cont_names)"
   ]
  },
  {
   "cell_type": "code",
   "execution_count": 50,
   "metadata": {},
   "outputs": [],
   "source": [
    "data = TabularDataBunch.from_df(path=path, \n",
    "                                df=df_train, \n",
    "                                    dep_var=dep_var, \n",
    "                                    valid_idx=valid_idx, \n",
    "                                    cat_names=cat_names, \n",
    "                                    cont_names=cont_names, \n",
    "                                    bs=5012,\n",
    "                                    procs=procs,\n",
    "                                    #test_df=df_test\n",
    "                               )"
   ]
  },
  {
   "cell_type": "code",
   "execution_count": 58,
   "metadata": {},
   "outputs": [],
   "source": [
    "learn = tabular_learner(data, layers=[1000,500], ps=[0.001,0.01], emb_drop=0.04, \n",
    "                        metrics=[accuracy_thresh, roc()], use_bn=True)"
   ]
  },
  {
   "cell_type": "code",
   "execution_count": 48,
   "metadata": {
    "scrolled": true
   },
   "outputs": [],
   "source": [
    "data = (TabularList.from_df(df_train, path=path, cat_names=cat_names, cont_names=cont_names, procs=procs)\n",
    "                           .split_by_idx(valid_idx)\n",
    "                            #.no_split()\n",
    "                           .label_from_df(cols=dep_var)\n",
    "                           .add_test(test)\n",
    "                           .databunch(bs=5012))"
   ]
  },
  {
   "cell_type": "code",
   "execution_count": 52,
   "metadata": {},
   "outputs": [],
   "source": [
    "df_test.Census_PrimaryDiskTotalCapacity.fillna(0, inplace=True)"
   ]
  },
  {
   "cell_type": "code",
   "execution_count": 49,
   "metadata": {},
   "outputs": [],
   "source": [
    "y_range=(0.,1.1)"
   ]
  },
  {
   "cell_type": "code",
   "execution_count": 50,
   "metadata": {},
   "outputs": [],
   "source": [
    "#learn = tabular_learner(data, layers=[200,100], metrics=accuracy_thresh)\n",
    "learn = tabular_learner(data, layers=[1000,500], ps=[0.001,0.01], emb_drop=0.04, \n",
    "                        y_range=y_range, metrics=accuracy)\n",
    "\n",
    "#y_range=y_range "
   ]
  },
  {
   "cell_type": "code",
   "execution_count": 51,
   "metadata": {
    "scrolled": true
   },
   "outputs": [],
   "source": [
    "#learn.model\n",
    "gc.collect();"
   ]
  },
  {
   "cell_type": "code",
   "execution_count": 52,
   "metadata": {},
   "outputs": [
    {
     "data": {
      "text/html": [],
      "text/plain": [
       "<IPython.core.display.HTML object>"
      ]
     },
     "metadata": {},
     "output_type": "display_data"
    },
    {
     "name": "stdout",
     "output_type": "stream",
     "text": [
      "LR Finder is complete, type {learner_name}.recorder.plot() to see the graph.\n"
     ]
    },
    {
     "data": {
      "image/png": "[encoded data removed]",
      "text/plain": [
       "<Figure size 432x288 with 1 Axes>"
      ]
     },
     "metadata": {
      "needs_background": "light"
     },
     "output_type": "display_data"
    }
   ],
   "source": [
    "learn.lr_find()\n",
    "learn.recorder.plot()"
   ]
  },
  {
   "cell_type": "code",
   "execution_count": 53,
   "metadata": {},
   "outputs": [
    {
     "data": {
      "text/html": [
       "Total time: 27:14 <p><table style='width:375px; margin-bottom:10px'>\n",
       "  <tr>\n",
       "    <th>epoch</th>\n",
       "    <th>train_loss</th>\n",
       "    <th>valid_loss</th>\n",
       "    <th>accuracy</th>\n",
       "    <th>time</th>\n",
       "  </tr>\n",
       "  <tr>\n",
       "    <th>0</th>\n",
       "    <th>0.612175</th>\n",
       "    <th>0.619879</th>\n",
       "    <th>0.651000</th>\n",
       "    <th>09:03</th>\n",
       "  </tr>\n",
       "  <tr>\n",
       "    <th>1</th>\n",
       "    <th>0.605596</th>\n",
       "    <th>0.614496</th>\n",
       "    <th>0.663500</th>\n",
       "    <th>09:05</th>\n",
       "  </tr>\n",
       "  <tr>\n",
       "    <th>2</th>\n",
       "    <th>0.592841</th>\n",
       "    <th>0.623061</th>\n",
       "    <th>0.656000</th>\n",
       "    <th>09:06</th>\n",
       "  </tr>\n",
       "</table>\n"
      ],
      "text/plain": [
       "<IPython.core.display.HTML object>"
      ]
     },
     "metadata": {},
     "output_type": "display_data"
    }
   ],
   "source": [
    "learn.fit(3, 1e-2)"
   ]
  },
  {
   "cell_type": "code",
   "execution_count": 55,
   "metadata": {},
   "outputs": [],
   "source": [
    "learn.save('stage-1')"
   ]
  },
  {
   "cell_type": "code",
   "execution_count": 55,
   "metadata": {},
   "outputs": [
    {
     "ename": "NameError",
     "evalue": "name 'learn' is not defined",
     "output_type": "error",
     "traceback": [
      "\u001b[0;31m---------------------------------------------------------------------------\u001b[0m",
      "\u001b[0;31mNameError\u001b[0m                                 Traceback (most recent call last)",
      "\u001b[0;32m<ipython-input-55-0d0b57817335>\u001b[0m in \u001b[0;36m<module>\u001b[0;34m\u001b[0m\n\u001b[0;32m----> 1\u001b[0;31m \u001b[0mlearn\u001b[0m\u001b[0;34m.\u001b[0m\u001b[0mload\u001b[0m\u001b[0;34m(\u001b[0m\u001b[0;34m'stage-1'\u001b[0m\u001b[0;34m)\u001b[0m\u001b[0;34m\u001b[0m\u001b[0;34m\u001b[0m\u001b[0m\n\u001b[0m",
      "\u001b[0;31mNameError\u001b[0m: name 'learn' is not defined"
     ]
    }
   ],
   "source": [
    "learn.load('stage-1')"
   ]
  },
  {
   "cell_type": "markdown",
   "metadata": {},
   "source": [
    "## Inference."
   ]
  },
  {
   "cell_type": "code",
   "execution_count": null,
   "metadata": {},
   "outputs": [],
   "source": [
    "#row = df_train.iloc[0]\n",
    "#learn.predict(row)"
   ]
  },
  {
   "cell_type": "code",
   "execution_count": 56,
   "metadata": {},
   "outputs": [],
   "source": [
    "test_preds=learn.get_preds(ds_type=DatasetType.Test)"
   ]
  },
  {
   "cell_type": "code",
   "execution_count": 57,
   "metadata": {},
   "outputs": [
    {
     "data": {
      "text/plain": [
       "[tensor([[0.5140, 0.4860],\n",
       "         [0.2719, 0.7281],\n",
       "         [0.4109, 0.5891],\n",
       "         ...,\n",
       "         [0.6292, 0.3708],\n",
       "         [0.5923, 0.4077],\n",
       "         [0.6561, 0.3439]]), tensor([0, 0, 0,  ..., 0, 0, 0])]"
      ]
     },
     "execution_count": 57,
     "metadata": {},
     "output_type": "execute_result"
    }
   ],
   "source": [
    "test_preds"
   ]
  },
  {
   "cell_type": "code",
   "execution_count": 72,
   "metadata": {},
   "outputs": [],
   "source": [
    "target_preds = test_preds[0][:,1]"
   ]
  },
  {
   "cell_type": "code",
   "execution_count": 73,
   "metadata": {},
   "outputs": [
    {
     "data": {
      "text/plain": [
       "tensor([0.4860, 0.7281, 0.5891,  ..., 0.3708, 0.4077, 0.3439])"
      ]
     },
     "execution_count": 73,
     "metadata": {},
     "output_type": "execute_result"
    }
   ],
   "source": [
    "target_preds"
   ]
  },
  {
   "cell_type": "code",
   "execution_count": 74,
   "metadata": {},
   "outputs": [
    {
     "data": {
      "text/plain": [
       "torch.Size([7853253])"
      ]
     },
     "execution_count": 74,
     "metadata": {},
     "output_type": "execute_result"
    }
   ],
   "source": [
    "target_preds.shape"
   ]
  },
  {
   "cell_type": "code",
   "execution_count": 75,
   "metadata": {},
   "outputs": [],
   "source": [
    "submission = pd.read_csv(path/'sample_submission.csv', low_memory=False)"
   ]
  },
  {
   "cell_type": "code",
   "execution_count": 81,
   "metadata": {},
   "outputs": [],
   "source": [
    "submission['HasDetections'] = target_preds\n",
    "submission.to_csv(path/'fastai_submission3.csv', index=False)"
   ]
  },
  {
   "cell_type": "code",
   "execution_count": 84,
   "metadata": {},
   "outputs": [],
   "source": [
    "df_3 = pd.read_csv(path/'fastai_submission3.csv', low_memory=False)"
   ]
  },
  {
   "cell_type": "code",
   "execution_count": 83,
   "metadata": {},
   "outputs": [],
   "source": [
    "df1 = pd.read_csv(path/'lgb_submission.csv', low_memory=False)\n",
    "df2 = pd.read_csv(path/'ens_sub_v12.csv', low_memory=False)"
   ]
  },
  {
   "cell_type": "code",
   "execution_count": 87,
   "metadata": {},
   "outputs": [],
   "source": [
    "df4 = df1['HasDetections'] + df2['HasDetections'] + df_3['HasDetections']"
   ]
  },
  {
   "cell_type": "code",
   "execution_count": 88,
   "metadata": {},
   "outputs": [],
   "source": [
    "df4 = pd.concat([df1, df2.drop(['MachineIdentifier'],axis=1), df_3.drop(['MachineIdentifier'],axis=1)], axis=1)"
   ]
  },
  {
   "cell_type": "code",
   "execution_count": 89,
   "metadata": {},
   "outputs": [],
   "source": [
    "df_mean = df4.mean(axis=1)"
   ]
  },
  {
   "cell_type": "code",
   "execution_count": 90,
   "metadata": {},
   "outputs": [],
   "source": [
    "df5 = df1"
   ]
  },
  {
   "cell_type": "code",
   "execution_count": 93,
   "metadata": {},
   "outputs": [
    {
     "data": {
      "text/plain": [
       "0   0.5648\n",
       "1   0.6886\n",
       "2   0.6778\n",
       "3   0.4750\n",
       "4   0.5541\n",
       "dtype: float64"
      ]
     },
     "execution_count": 93,
     "metadata": {},
     "output_type": "execute_result"
    }
   ],
   "source": [
    "df_mean.head()"
   ]
  },
  {
   "cell_type": "code",
   "execution_count": 94,
   "metadata": {},
   "outputs": [],
   "source": [
    "df5['HasDetections'] = df_mean"
   ]
  },
  {
   "cell_type": "code",
   "execution_count": 95,
   "metadata": {},
   "outputs": [],
   "source": [
    "df5.to_csv(path/'fastai_submission4.csv', index=False)"
   ]
  }
 ],
 "metadata": {
  "kernelspec": {
   "display_name": "Python 3",
   "language": "python",
   "name": "python3"
  },
  "language_info": {
   "codemirror_mode": {
    "name": "ipython",
    "version": 3
   },
   "file_extension": ".py",
   "mimetype": "text/x-python",
   "name": "python",
   "nbconvert_exporter": "python",
   "pygments_lexer": "ipython3",
   "version": "3.6.7"
  }
 },
 "nbformat": 4,
 "nbformat_minor": 2
}
