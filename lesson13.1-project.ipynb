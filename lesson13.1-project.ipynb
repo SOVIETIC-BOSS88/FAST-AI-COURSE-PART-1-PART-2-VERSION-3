{
 "cells": [
  {
   "cell_type": "markdown",
   "metadata": {},
   "source": [
    "# FAST AI JOURNEY: PART 1. LESSON 13.1.\n",
    "## Documenting my fast.ai journey: PAPER REVIEW. BAG OF TRICKS FOR IMAGE CLASSIFICATION WITH CONVOLUTIONAL NEURAL NETWORKS."
   ]
  },
  {
   "cell_type": "markdown",
   "metadata": {},
   "source": [
    "In this project we dived into the 2018 paper, named Bag of Tricks for Image Classification with Convolutional Neural Networks, by Tong He, Zhi Zhang, Hang Zhang, Zhongyue Zhang, Junyuan Xie, Mu Li. Particularly, we will focus on the the Section 4 of the paper, summarized in the following [Medium Post](https://medium.com/@surhar88/fast-ai-journey-part-2-lesson-13-67e0fd2fa3c1)."
   ]
  },
  {
   "cell_type": "code",
   "execution_count": null,
   "metadata": {},
   "outputs": [],
   "source": []
  }
 ],
 "metadata": {
  "kernelspec": {
   "display_name": "Python 3",
   "language": "python",
   "name": "python3"
  },
  "language_info": {
   "codemirror_mode": {
    "name": "ipython",
    "version": 3
   },
   "file_extension": ".py",
   "mimetype": "text/x-python",
   "name": "python",
   "nbconvert_exporter": "python",
   "pygments_lexer": "ipython3",
   "version": "3.6.7"
  }
 },
 "nbformat": 4,
 "nbformat_minor": 2
}
