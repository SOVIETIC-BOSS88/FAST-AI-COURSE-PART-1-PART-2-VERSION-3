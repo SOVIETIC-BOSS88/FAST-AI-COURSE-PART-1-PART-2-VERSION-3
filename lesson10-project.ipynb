{
 "cells": [
  {
   "cell_type": "markdown",
   "metadata": {},
   "source": [
    "# FAST AI JOURNEY: PART 2. LESSON 10.\n",
    "## Documenting my fast.ai journey: PAPER REVIEW. INSTANCE NORMALIZATION: THE MISSING INGREDIENT FOR FAST STYLIZATION."
   ]
  },
  {
   "cell_type": "markdown",
   "metadata": {},
   "source": [
    "In this project we dived into the 2016 paper, named Instance Normalization: The Missing Ingredient for Fast Stylization, by Dmitry Ulyanov, Andrea Vedaldi, Victor Lempitsky, summarized in the following [Medium Post](https://medium.com/@surhar88/fast-ai-journey-part-2-lesson-10-9964225c1667)."
   ]
  },
  {
   "cell_type": "code",
   "execution_count": null,
   "metadata": {},
   "outputs": [],
   "source": []
  }
 ],
 "metadata": {
  "kernelspec": {
   "display_name": "Python 3",
   "language": "python",
   "name": "python3"
  },
  "language_info": {
   "codemirror_mode": {
    "name": "ipython",
    "version": 3
   },
   "file_extension": ".py",
   "mimetype": "text/x-python",
   "name": "python",
   "nbconvert_exporter": "python",
   "pygments_lexer": "ipython3",
   "version": "3.6.7"
  }
 },
 "nbformat": 4,
 "nbformat_minor": 2
}
