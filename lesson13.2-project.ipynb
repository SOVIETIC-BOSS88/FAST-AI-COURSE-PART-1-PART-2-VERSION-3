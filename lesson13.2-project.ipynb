{
 "cells": [
  {
   "cell_type": "markdown",
   "metadata": {},
   "source": [
    "# FAST AI JOURNEY: PART 2. LESSON 13.2.\n",
    "## Documenting my fast.ai journey: CODE REVIEW. SWIFT PROGRAMMING LANGUAGE DEEP DIVE PROJECT. OPTIONAL TYPES AND IMPLICITLY UNWRAPPED OPTIONAL TYPES."
   ]
  },
  {
   "cell_type": "markdown",
   "metadata": {},
   "source": [
    "In this project we dived deeper into the implementation of the Swift Programming Language’s optional and implicitly unwrapped optional types,  summarized in the following [Medium Post](https://medium.com/@surhar88/fast-ai-journey-part-2-lesson-13-2-6a5480d86e9d)."
   ]
  },
  {
   "cell_type": "code",
   "execution_count": null,
   "metadata": {},
   "outputs": [],
   "source": []
  }
 ],
 "metadata": {
  "kernelspec": {
   "display_name": "Python 3",
   "language": "python",
   "name": "python3"
  },
  "language_info": {
   "codemirror_mode": {
    "name": "ipython",
    "version": 3
   },
   "file_extension": ".py",
   "mimetype": "text/x-python",
   "name": "python",
   "nbconvert_exporter": "python",
   "pygments_lexer": "ipython3",
   "version": "3.6.7"
  }
 },
 "nbformat": 4,
 "nbformat_minor": 2
}
