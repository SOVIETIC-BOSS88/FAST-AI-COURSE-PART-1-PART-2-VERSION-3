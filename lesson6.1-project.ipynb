{
 "cells": [
  {
   "cell_type": "markdown",
   "metadata": {},
   "source": [
    "# FAST AI JOURNEY: PART 1. LESSON 6.1.\n",
    "## Documenting my fast.ai journey: CODE REVIEW. FASTAI DEEP DIVE PROJECT. ONE_ITEM() AND ONE_BATCH() FUNCTIONS."
   ]
  },
  {
   "cell_type": "markdown",
   "metadata": {},
   "source": [
    "In this project we dived deeper into the implementation of the Fastai Library’s one_item() and one_batch() functions,  summarized in the following [Medium Post](https://medium.com/@surhar88/fast-ai-journey-part-1-lesson-6-1-41a5681ad7c9)."
   ]
  }
 ],
 "metadata": {
  "kernelspec": {
   "display_name": "Python 3",
   "language": "python",
   "name": "python3"
  },
  "language_info": {
   "codemirror_mode": {
    "name": "ipython",
    "version": 3
   },
   "file_extension": ".py",
   "mimetype": "text/x-python",
   "name": "python",
   "nbconvert_exporter": "python",
   "pygments_lexer": "ipython3",
   "version": "3.7.0"
  }
 },
 "nbformat": 4,
 "nbformat_minor": 2
}
