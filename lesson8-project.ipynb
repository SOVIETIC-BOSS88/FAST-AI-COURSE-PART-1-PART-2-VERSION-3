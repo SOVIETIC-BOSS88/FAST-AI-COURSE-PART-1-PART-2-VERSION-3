{
 "cells": [
  {
   "cell_type": "markdown",
   "metadata": {},
   "source": [
    "# FAST AI JOURNEY: COURSE V3. PART 2. LESSON 8.\n",
    "## Documenting my fast.ai journey: PAPER REVIEW. DELVING DEEP INTO RECTIFIERS: SURPASSING HUMAN-LEVEL PERFORMANCE ON IMAGENET CLASSIFICATION."
   ]
  },
  {
   "cell_type": "markdown",
   "metadata": {},
   "source": [
    "In this project we dived into the 2015 paper, named Delving Deep into Rectifiers: Surpassing Human-Level Performance on ImageNet Classification, by Kaiming He, Xiangyu Zhang, Shaoqing Ren, Jian Sun, from Microsoft Research, which was presented at the 2015 ICCV. Particularly, we will focus on the Section 2.2 of the paper, summarized in the following [Medium Post](https://medium.com/@surhar88/fast-ai-journey-part-2-lesson-8-fda8836bca29)."
   ]
  },
  {
   "cell_type": "code",
   "execution_count": null,
   "metadata": {},
   "outputs": [],
   "source": []
  }
 ],
 "metadata": {
  "kernelspec": {
   "display_name": "Python 3",
   "language": "python",
   "name": "python3"
  },
  "language_info": {
   "codemirror_mode": {
    "name": "ipython",
    "version": 3
   },
   "file_extension": ".py",
   "mimetype": "text/x-python",
   "name": "python",
   "nbconvert_exporter": "python",
   "pygments_lexer": "ipython3",
   "version": "3.6.7"
  }
 },
 "nbformat": 4,
 "nbformat_minor": 2
}
